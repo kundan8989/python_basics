{
 "cells": [
  {
   "cell_type": "markdown",
   "id": "f9ad31aa-3617-46d1-99bc-b5cd7101e58d",
   "metadata": {},
   "source": [
    "# Python Basics Questions"
   ]
  },
  {
   "cell_type": "markdown",
   "id": "65c80d89-b18f-4fe4-906c-a42def7dd81e",
   "metadata": {},
   "source": [
    "## 1. What is Python, and why is it popular. \n",
    "   ->Python is a high-level, interpreted programming language known for its simplicity and readability. It is popular because it has a clean and easy-to-understand syntax, a large standard library, and strong community support. Python is widely used in web development, data science, artificial intelligence, and automation."
   ]
  },
  {
   "cell_type": "markdown",
   "id": "8df40e51-cf90-45da-8637-471cef07ab44",
   "metadata": {},
   "source": [
    "### 2. What is an interpreter in Python?\n",
    "-> An interpreter in Python is a program that executes Python code line by line, translating it into machine code.\n",
    "Unlike compiled languages, which need a separate compilation step, Python's interpreter allows for immediate execution of code."
   ]
  },
  {
   "cell_type": "markdown",
   "id": "80f40eba-703f-4fca-acfc-3544102ee09f",
   "metadata": {},
   "source": [
    "### 3. What are pre-defined keywords in Python?\n",
    "->Pre-defined keywords in Python are reserved words that have special meanings and cannot be used as variable names. \n",
    "Examples include if, else, while, for, def, class, return, and import."
   ]
  },
  {
   "cell_type": "markdown",
   "id": "71657f16-50f3-434f-9d8d-a32e52c11933",
   "metadata": {},
   "source": [
    "### 4. Can keywords be used as variable names?\n",
    "->No, keywords cannot be used as variable names because they are reserved for specific functions in Python. \n",
    "If you try to use a keyword as a variable name, Python will throw a syntax error."
   ]
  },
  {
   "cell_type": "markdown",
   "id": "1883688d-0070-493b-b823-3f846158c2a7",
   "metadata": {},
   "source": [
    "### 5. What is mutability in Python?\n",
    "Mutability in Python refers to whether an object’s value can be changed after it has been created. Mutable objects, like lists and dictionaries, can be modified, while immutable objects, like tuples and strings, cannot be changed after creation."
   ]
  },
  {
   "cell_type": "markdown",
   "id": "fc2684bf-cb9a-4c30-849e-67613797f7ed",
   "metadata": {},
   "source": [
    "### 6. Why are lists mutable, but tuples are immutable?\n",
    "Lists are mutable because they allow modifications such as adding, removing, or changing elements. Tuples, on the other hand, are immutable, meaning once they are created, their elements cannot be changed. This makes tuples more memory-efficient and suitable for storing fixed data."
   ]
  },
  {
   "cell_type": "markdown",
   "id": "2d37af42-c713-455e-8ae1-b2ebfbf41196",
   "metadata": {},
   "source": [
    "### 7. What is the difference between '==' and 'is' operators in Python?\n",
    "The \"==\"\" operator checks if two values are equal, whereas the \"is\" operator checks if two variables refer to the same memory location."
   ]
  },
  {
   "cell_type": "markdown",
   "id": "d1316f97-2d0b-482e-8cd2-bd3d71c7aa71",
   "metadata": {},
   "source": [
    "### 8. What are logical operators in Python?\n",
    "Logical operators in Python are used to combine conditional statements. They include:\n",
    "\n",
    "##### and – Returns True if both conditions are true\n",
    "##### or – Returns True if at least one condition is true\n",
    "##### not – Reverses the boolean value"
   ]
  },
  {
   "cell_type": "markdown",
   "id": "daa071ec-28e3-4f68-be06-c14572919ff4",
   "metadata": {},
   "source": [
    "### 9. What is type casting in Python?\n",
    "Type casting in Python is the process of converting one data type into another. It can be done using functions like int(), float(), str(), etc."
   ]
  },
  {
   "cell_type": "markdown",
   "id": "1309398d-0218-470c-83cb-36c1fb7d68b2",
   "metadata": {},
   "source": [
    "### 10. What is the difference between implicit and explicit type casting?\n",
    "###### Implicit Type Casting: Python automatically converts one data type to another (e.g., integer to float).\n",
    "###### Explicit Type Casting: The programmer manually converts a data type using functions like int(), float(), and str()."
   ]
  },
  {
   "cell_type": "markdown",
   "id": "fceb6ea0-f5ea-4838-bc5e-d5620e8cff12",
   "metadata": {},
   "source": [
    "### 11. What is the purpose of conditional statements in Python?\n",
    "Conditional statements in Python are used to control the flow of execution based on conditions.\n",
    "They allow the program to make decisions and execute different blocks of code depending on whether conditions are met.\n",
    "The main conditional statements are if, elif, and else."
   ]
  },
  {
   "cell_type": "markdown",
   "id": "7cf1fcae-dbdc-4628-926b-9fc14472098b",
   "metadata": {},
   "source": [
    "### 12. How does the elif statement work?\n",
    "The elif statement is used when there are multiple conditions to check.\n",
    "It stands for \"else if\" and allows checking additional conditions after an if statement."
   ]
  },
  {
   "cell_type": "markdown",
   "id": "629015f7-288b-4b03-96ec-32e18b661569",
   "metadata": {},
   "source": [
    "### 13. What is the difference between for and while loops?\n",
    "###### for loop: Used when we know how many times we need to iterate. It is mainly used to iterate over sequences like lists, tuples, and strings.\n",
    "###### while loop: Used when the number of iterations is unknown and depends on a condition being true."
   ]
  },
  {
   "cell_type": "markdown",
   "id": "8e517365-5055-42bd-9ce1-fbb4a69f0a65",
   "metadata": {},
   "source": [
    "### 14. Describe a scenario where a while loop is more suitable than a for loop.\n",
    "A while loop is more suitable when the number of iterations is unknown beforehand, such as waiting for user input or running a program until a specific condition is met."
   ]
  },
  {
   "cell_type": "code",
   "execution_count": null,
   "id": "b1324b25-9491-46d0-8dae-5c262eb0c117",
   "metadata": {},
   "outputs": [],
   "source": []
  },
  {
   "cell_type": "markdown",
   "id": "5c6c9305-37e6-4f32-9af4-519f19a972cb",
   "metadata": {},
   "source": [
    "# Practical Questions"
   ]
  },
  {
   "cell_type": "code",
   "execution_count": 18,
   "id": "ad749b7e-65fa-430e-ae5a-61a4120ffe31",
   "metadata": {},
   "outputs": [
    {
     "name": "stdout",
     "output_type": "stream",
     "text": [
      "Hello, World!\n"
     ]
    }
   ],
   "source": [
    "# 1 Write a Python program to print \"Hello, World!\n",
    "print(\"Hello, World!\")"
   ]
  },
  {
   "cell_type": "code",
   "execution_count": 33,
   "id": "d792a77e-9c85-4da8-a76e-86268f887c5c",
   "metadata": {},
   "outputs": [
    {
     "name": "stdout",
     "output_type": "stream",
     "text": [
      "My name is  Kundan Kumar\n",
      "I am 22 year old\n"
     ]
    }
   ],
   "source": [
    "# 2  Write a Python program that displays your name and age.\n",
    "name=\"Kundan Kumar\"\n",
    "age=22\n",
    "print(\"My name is \",name)\n",
    "print(\"I am\",age,\"year old\")"
   ]
  },
  {
   "cell_type": "code",
   "execution_count": 1,
   "id": "2cd1dc8e-ee44-48ac-83fc-96d0dab28e10",
   "metadata": {},
   "outputs": [
    {
     "name": "stdout",
     "output_type": "stream",
     "text": [
      "['False', 'None', 'True', 'and', 'as', 'assert', 'async', 'await', 'break', 'class', 'continue', 'def', 'del', 'elif', 'else', 'except', 'finally', 'for', 'from', 'global', 'if', 'import', 'in', 'is', 'lambda', 'nonlocal', 'not', 'or', 'pass', 'raise', 'return', 'try', 'while', 'with', 'yield']\n"
     ]
    }
   ],
   "source": [
    "# 3 Write code to print all the pre-defined keywords in Python using the keyword library\n",
    "import keyword\n",
    "\n",
    "print(keyword.kwlist)\n"
   ]
  },
  {
   "cell_type": "code",
   "execution_count": 20,
   "id": "a0228d75-ed6d-458d-839c-2cfcbf6b3ca5",
   "metadata": {},
   "outputs": [
    {
     "name": "stdin",
     "output_type": "stream",
     "text": [
      "Input your word 9\n"
     ]
    },
    {
     "name": "stdout",
     "output_type": "stream",
     "text": [
      "Given word is not a python keyword\n"
     ]
    }
   ],
   "source": [
    "# 4 Write a program that checks if a given word is a Python keyword.\n",
    "\n",
    "import keyword\n",
    "\n",
    "keyword_list=keyword.kwlist\n",
    "given_word=input(\"Input your word\")\n",
    "if (given_word in keyword_list):\n",
    "    print(\"Given word is a python keyword\")\n",
    "else:\n",
    "    print(\"Given word is not a python keyword\")\n"
   ]
  },
  {
   "cell_type": "code",
   "execution_count": 19,
   "id": "825755d5-e226-438c-9f9d-8789593fcd01",
   "metadata": {},
   "outputs": [
    {
     "name": "stdout",
     "output_type": "stream",
     "text": [
      "[3, 6, 8, 9]\n"
     ]
    }
   ],
   "source": [
    "# 5 Create a list and tuple in Python, and demonstrate how attempting to change an element works differently  for each.\n",
    "my_list=[1,6,8,9]\n",
    "my_tuple=(4,8,5,7)\n",
    "\n",
    "#attempting to change  an elwement of list\n",
    "my_list[0]=3\n",
    "print(my_list)"
   ]
  },
  {
   "cell_type": "code",
   "execution_count": 3,
   "id": "7afdf4ea-b393-4731-949a-5a520db6005d",
   "metadata": {},
   "outputs": [
    {
     "ename": "TypeError",
     "evalue": "'tuple' object does not support item assignment",
     "output_type": "error",
     "traceback": [
      "\u001b[1;31m---------------------------------------------------------------------------\u001b[0m",
      "\u001b[1;31mTypeError\u001b[0m                                 Traceback (most recent call last)",
      "Cell \u001b[1;32mIn[3], line 3\u001b[0m\n\u001b[0;32m      1\u001b[0m \u001b[38;5;66;03m#attempting to change an element of tuple\u001b[39;00m\n\u001b[0;32m      2\u001b[0m my_tuple\u001b[38;5;241m=\u001b[39m(\u001b[38;5;241m4\u001b[39m,\u001b[38;5;241m8\u001b[39m,\u001b[38;5;241m5\u001b[39m,\u001b[38;5;241m7\u001b[39m)\n\u001b[1;32m----> 3\u001b[0m \u001b[43mmy_tuple\u001b[49m\u001b[43m[\u001b[49m\u001b[38;5;241;43m0\u001b[39;49m\u001b[43m]\u001b[49m\u001b[38;5;241m=\u001b[39m\u001b[38;5;241m9\u001b[39m\n\u001b[0;32m      4\u001b[0m \u001b[38;5;28mprint\u001b[39m(my_tuple)\n",
      "\u001b[1;31mTypeError\u001b[0m: 'tuple' object does not support item assignment"
     ]
    }
   ],
   "source": [
    "#attempting to change an element of tuple\n",
    "my_tuple=(4,8,5,7)\n",
    "my_tuple[0]=9\n",
    "print(my_tuple)"
   ]
  },
  {
   "cell_type": "code",
   "execution_count": null,
   "id": "56e5021f-8c9a-42ad-81b3-f62d7f07110f",
   "metadata": {},
   "outputs": [],
   "source": [
    "# 6. Write a function to demonstrate the behavior of mutable and immutable arguments."
   ]
  },
  {
   "cell_type": "code",
   "execution_count": 6,
   "id": "884232ce-b8af-4d2e-af83-6c0c1d557470",
   "metadata": {},
   "outputs": [
    {
     "name": "stdin",
     "output_type": "stream",
     "text": [
      "Enter Your first number 2\n",
      "enter your second number 4\n"
     ]
    },
    {
     "name": "stdout",
     "output_type": "stream",
     "text": [
      "sum of two number is 6\n",
      "subtraction of two number is -2\n",
      "multiplication of two number is 8\n",
      "Division of two number is 0.5\n"
     ]
    }
   ],
   "source": [
    "# 7. Write a program that performs basic arithmetic operations on two user-input numbers.\n",
    "\n",
    "num_a=int(input(\"Enter Your first number\"))\n",
    "num_b=int(input(\"enter your second number\"))\n",
    "\n",
    "#addition\n",
    "ab_sum=num_a+num_b\n",
    "\n",
    "#subtraction\n",
    "ab_subtraction=num_a-num_b\n",
    "\n",
    "#Multiplication\n",
    "ab_multiplication=num_a*num_b\n",
    "\n",
    "#Division\n",
    "ab_division=num_a/num_b\n",
    "\n",
    "\n",
    "print(\"sum of two number is\",ab_sum)\n",
    "print(\"subtraction of two number is\",ab_subtraction)\n",
    "print(\"multiplication of two number is\",ab_multiplication)\n",
    "print(\"Division of two number is\",ab_division)"
   ]
  },
  {
   "cell_type": "code",
   "execution_count": 32,
   "id": "5d5c6df1-eec5-4df5-979a-c6a9303f54db",
   "metadata": {},
   "outputs": [
    {
     "name": "stdout",
     "output_type": "stream",
     "text": [
      "3 is not a largest number\n"
     ]
    }
   ],
   "source": [
    "# 8. Write a program to demonstrate the use of logical operators.\n",
    "#logical \"and \" operator\n",
    "#to check \"a\" is largest number or not\n",
    "a=3\n",
    "b=2\n",
    "c=5\n",
    "if (a>b and a>c):\n",
    "    print(a,\"is the largest number\")\n",
    "else:\n",
    "    print(a,\"is not a largest number\")"
   ]
  },
  {
   "cell_type": "code",
   "execution_count": 9,
   "id": "f2b8c946-2ca3-4d70-b9b1-2534531495d5",
   "metadata": {},
   "outputs": [
    {
     "name": "stdout",
     "output_type": "stream",
     "text": [
      "False\n"
     ]
    }
   ],
   "source": [
    "#logical \"or\" operator\n",
    "num_a=3\n",
    "num_b=5\n",
    "num_c=1\n",
    "result=a>b or a>c\n",
    "print(d)"
   ]
  },
  {
   "cell_type": "code",
   "execution_count": 11,
   "id": "9326b9ae-dd4f-4d12-8968-3d6649b0c2d2",
   "metadata": {},
   "outputs": [
    {
     "name": "stdout",
     "output_type": "stream",
     "text": [
      "False\n"
     ]
    }
   ],
   "source": [
    "#logical \"not\" operator\n",
    "\n",
    "num_p=3\n",
    "num_q=2\n",
    "result_c=not num_p>num_q\n",
    "print(result_c)"
   ]
  },
  {
   "cell_type": "code",
   "execution_count": 30,
   "id": "97bf2f73-a650-454a-aee6-6dd74997b5f8",
   "metadata": {},
   "outputs": [
    {
     "name": "stdin",
     "output_type": "stream",
     "text": [
      "Input a number 9\n"
     ]
    },
    {
     "name": "stdout",
     "output_type": "stream",
     "text": [
      "<class 'int'>\n",
      "<class 'float'>\n",
      "<class 'bool'>\n"
     ]
    }
   ],
   "source": [
    "# 9. Write a Python program to convert user input from string to integer, float, and boolean types.\n",
    "\n",
    "str_num=input(\"Input a number\")\n",
    "int_num=int(str_num)\n",
    "flt_num=float(str_num)\n",
    "bool_num=bool(str_num)\n",
    "\n",
    "print(type(int_num))\n",
    "print(type(flt_num))\n",
    "print(type(bool_num))"
   ]
  },
  {
   "cell_type": "code",
   "execution_count": 31,
   "id": "8d2cebf9-3fe3-43b6-aa94-9215c330e07d",
   "metadata": {},
   "outputs": [
    {
     "name": "stdout",
     "output_type": "stream",
     "text": [
      "Original List: ['10', '20', '30', 40, 50.5, '60']\n",
      "Converted List: [10, 20, 30, 40, 50, 60]\n"
     ]
    }
   ],
   "source": [
    "#  10. Write code to demonstrate type casting with list elements.\n",
    "# List containing elements of different types\n",
    "mixed_list = [\"10\", \"20\", \"30\", 40, 50.5, \"60\"]\n",
    "\n",
    "# Converting all elements to integers\n",
    "int_list = [int(float(i)) for i in mixed_list]\n",
    "\n",
    "print(\"Original List:\", mixed_list)\n",
    "print(\"Converted List:\", int_list)\n"
   ]
  },
  {
   "cell_type": "code",
   "execution_count": 13,
   "id": "2bdbb98b-e542-4898-aae3-6a0d095624a8",
   "metadata": {},
   "outputs": [
    {
     "name": "stdin",
     "output_type": "stream",
     "text": [
      "Enter a number 8\n"
     ]
    },
    {
     "name": "stdout",
     "output_type": "stream",
     "text": [
      "Number is positive\n"
     ]
    }
   ],
   "source": [
    "#  11. Write a program that checks if a number is positive, negative, or zero.\n",
    "number=int(input(\"Enter a number\"))\n",
    "if (number>0):\n",
    "    print(\"Number is positive\")\n",
    "elif(number==0):\n",
    "    print(\"Number is zero\")\n",
    "else:\n",
    "    print(\"Number is Negative\")"
   ]
  },
  {
   "cell_type": "code",
   "execution_count": 12,
   "id": "2853f61d-e4fe-4aff-89eb-da3f0054a4db",
   "metadata": {},
   "outputs": [
    {
     "name": "stdout",
     "output_type": "stream",
     "text": [
      "1\n",
      "2\n",
      "3\n",
      "4\n",
      "5\n",
      "6\n",
      "7\n",
      "8\n",
      "9\n",
      "10\n"
     ]
    }
   ],
   "source": [
    "# 12. Write a for loop to print numbers from 1 to 10.\n",
    "for i in range(1,11):\n",
    "    print(i)\n"
   ]
  },
  {
   "cell_type": "code",
   "execution_count": 21,
   "id": "81a5e0a3-4065-48ba-a34a-9c756b8caeec",
   "metadata": {},
   "outputs": [
    {
     "name": "stdout",
     "output_type": "stream",
     "text": [
      "650\n"
     ]
    }
   ],
   "source": [
    "# 13. Write a Python program to find the sum of all even numbers between 1 and 50.\n",
    "sum=0\n",
    "for i in range(1,51):\n",
    "    if (i%2==0):\n",
    "        sum=sum+i\n",
    "\n",
    "print(sum)"
   ]
  },
  {
   "cell_type": "code",
   "execution_count": 28,
   "id": "6e65e578-41c7-4db0-8929-436523c953a6",
   "metadata": {},
   "outputs": [
    {
     "name": "stdout",
     "output_type": "stream",
     "text": [
      "nadnuk\n"
     ]
    }
   ],
   "source": [
    "# 14. Write a program to reverse a string using a while loop.\n",
    "my_string=\"kundan\"\n",
    "i=1\n",
    "new_str=\"\"\n",
    "while i<len(my_string)+1:\n",
    "    new_str=new_str+my_string[-i]\n",
    "    i=i+1\n",
    "\n",
    "print(new_str)"
   ]
  },
  {
   "cell_type": "code",
   "execution_count": 27,
   "id": "ee4dc98d-b2a1-479b-8479-4f162cbd5b7d",
   "metadata": {},
   "outputs": [
    {
     "name": "stdin",
     "output_type": "stream",
     "text": [
      "Enter a number 1\n"
     ]
    },
    {
     "name": "stdout",
     "output_type": "stream",
     "text": [
      "Factorial of given number is 1\n"
     ]
    }
   ],
   "source": [
    "#  15. Write a Python program to calculate the factorial of a number provided by the user using a while loop.\n",
    "num=int(input(\"Enter a number\"))\n",
    "fact=1\n",
    "for i in range(2,num+1):\n",
    "    fact=fact*i\n",
    "\n",
    "print(\"Factorial of given number is\",fact)"
   ]
  }
 ],
 "metadata": {
  "kernelspec": {
   "display_name": "Python 3 (ipykernel)",
   "language": "python",
   "name": "python3"
  },
  "language_info": {
   "codemirror_mode": {
    "name": "ipython",
    "version": 3
   },
   "file_extension": ".py",
   "mimetype": "text/x-python",
   "name": "python",
   "nbconvert_exporter": "python",
   "pygments_lexer": "ipython3",
   "version": "3.12.6"
  }
 },
 "nbformat": 4,
 "nbformat_minor": 5
}
